{
 "cells": [
  {
   "cell_type": "code",
   "execution_count": 3,
   "metadata": {},
   "outputs": [
    {
     "name": "stdout",
     "output_type": "stream",
     "text": [
      "(0, '0.021*\"blodsocker\" + 0.013*\"finns\" + 0.008*\"många\" + 0.007*\"människor\" + 0.007*\"sjukdom\" + 0.007*\"bland\" + 0.006*\"borde\" + 0.006*\"inget\" + 0.006*\"första\" + 0.006*\"kring\"')\n",
      "(1, '0.023*\"2-diabetes\" + 0.009*\"dagens\" + 0.008*\"världsdiabetesdagen\" + 0.008*\"sverige\" + 0.007*\"socker\" + 0.007*\"diabetesgalan\" + 0.007*\"äldreboende\" + 0.006*\"studie\" + 0.006*\"samband\" + 0.005*\"fyrväpplingens\"')\n",
      "(2, '0.066*\"kommer\" + 0.058*\"swisha\" + 0.057*\"diabetesfonden\" + 0.052*\"tweet\" + 0.039*\"insulin\" + 0.011*\"jobbar\" + 0.010*\"morgon\" + 0.010*\"skolan\" + 0.010*\"läste\" + 0.010*\"valde\"')\n",
      "(3, '0.010*\"ligger\" + 0.008*\"insulin\" + 0.008*\"dåligt\" + 0.008*\"behandling\" + 0.007*\"barndiabetesfonden\" + 0.007*\"patienter\" + 0.006*\"bättre\" + 0.005*\"kanske\" + 0.005*\"jihde\" + 0.005*\"tydligen\"')\n",
      "(4, '0.043*\"insulinpump\" + 0.043*\"dotter\" + 0.043*\"snälla\" + 0.042*\"twitter\" + 0.042*\"troligen\" + 0.041*\"tappat\" + 0.041*\"fjäll\" + 0.015*\"peter\" + 0.012*\"jihde\" + 0.006*\"forskare\"')\n"
     ]
    }
   ],
   "source": [
    "import gensim\n",
    "\n",
    "# removing the word \"diabetiker\" from the tokens\n",
    "model_path = 'models/05-topics-without-diabetiker'\n",
    "corpus_path = 'models/corpus_without'\n",
    "dictionary_path = 'models/dictionary_without'\n",
    "\n",
    "dictionary = gensim.corpora.Dictionary.load(dictionary_path)\n",
    "lda = gensim.models.ldamodel.LdaModel.load(model_path)\n",
    "topics = lda.print_topics(num_words=10)\n",
    "for topic in topics:\n",
    "    print(topic)\n"
   ]
  },
  {
   "cell_type": "code",
   "execution_count": null,
   "metadata": {},
   "outputs": [],
   "source": []
  }
 ],
 "metadata": {
  "kernelspec": {
   "display_name": "Python 3",
   "language": "python",
   "name": "python3"
  },
  "language_info": {
   "codemirror_mode": {
    "name": "ipython",
    "version": 3
   },
   "file_extension": ".py",
   "mimetype": "text/x-python",
   "name": "python",
   "nbconvert_exporter": "python",
   "pygments_lexer": "ipython3",
   "version": "3.7.0"
  }
 },
 "nbformat": 4,
 "nbformat_minor": 2
}
