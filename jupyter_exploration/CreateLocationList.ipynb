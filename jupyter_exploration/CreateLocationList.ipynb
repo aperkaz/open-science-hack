{
 "cells": [
  {
   "cell_type": "markdown",
   "metadata": {},
   "source": [
    "Here we parse a list from the central bureau of statistics containing population data to get a list of valid places. This list was found here:\n",
    "https://www.scb.se/hitta-statistik/statistik-efter-amne/miljo/markanvandning/tatorter/pong/tabell-och-diagram/tatorter-2015--befolkning-landareal-andel-som-overlappas-av-fritidshusomraden/\n"
   ]
  },
  {
   "cell_type": "code",
   "execution_count": 71,
   "metadata": {},
   "outputs": [],
   "source": [
    "import pandas as pd\n",
    "valid_locs =set([])\n",
    "\n",
    "xl = pd.ExcelFile(\"mi0810_2018a01_tatorter2015_sve.xlsx\")\n",
    "df = xl.parse('Tätorter 2015')\n",
    "df = df.drop([0,1,2,3,4,5,6,7,8,9,10,11,12], axis=0)\n",
    "for municipality in df[df.columns[3]]:\n",
    "    valid_locs.add(municipality)\n",
    "for towns in df[df.columns[5]]:\n",
    "    for town in towns.replace(',', '').split(\" \"):\n",
    "        if town != \"och\":\n",
    "            valid_locs.add(town)\n",
    "#valid_locs"
   ]
  },
  {
   "cell_type": "markdown",
   "metadata": {},
   "source": [
    "Lets try to get a list of all the locations\n",
    "\n"
   ]
  },
  {
   "cell_type": "code",
   "execution_count": 76,
   "metadata": {},
   "outputs": [
    {
     "name": "stdout",
     "output_type": "stream",
     "text": [
      "the number of different locations: 127\n"
     ]
    }
   ],
   "source": [
    "import json\n",
    "\n",
    "loc_set = set([])\n",
    "geo_usr = 0\n",
    "loc_list = []\n",
    "loc_count ={}\n",
    "\n",
    "with open('../diabetes_tweets.json', encoding=\"utf8\") as f:\n",
    "    for row in f:\n",
    "        jo = json.loads(row)\n",
    "        if ( (jo['user']['geo_enabled'] == True)) and (jo['user']['location'] != None):\n",
    "            loc = jo['user']['location']\n",
    "            geo_usr +=1\n",
    "            for word in loc.split():\n",
    "                if word in valid_locs:\n",
    "                    loc_list.append(word)\n",
    "                    loc_set.add(word)\n",
    "\n",
    "print('the number of different locations: '+str(len(loc_set)))\n",
    "for loc in loc_set:\n",
    "    loc_count[loc] = loc_list.count(loc)\n",
    "\n",
    "loc_count\n",
    "location_list_json = json.dumps(loc_count)\n",
    "\n",
    "f = open(\"list_of_locations_and_counts.json\", \"w\")\n",
    "f.write(location_list_json)\n",
    "f.close()\n"
   ]
  }
 ],
 "metadata": {
  "kernelspec": {
   "display_name": "Python 3",
   "language": "python",
   "name": "python3"
  },
  "language_info": {
   "codemirror_mode": {
    "name": "ipython",
    "version": 3
   },
   "file_extension": ".py",
   "mimetype": "text/x-python",
   "name": "python",
   "nbconvert_exporter": "python",
   "pygments_lexer": "ipython3",
   "version": "3.7.0"
  }
 },
 "nbformat": 4,
 "nbformat_minor": 2
}
