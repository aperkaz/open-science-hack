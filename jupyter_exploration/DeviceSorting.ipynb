{
 "cells": [
  {
   "cell_type": "markdown",
   "metadata": {},
   "source": [
    "Calculate the devices the users use most"
   ]
  },
  {
   "cell_type": "code",
   "execution_count": 6,
   "metadata": {},
   "outputs": [
    {
     "name": "stdout",
     "output_type": "stream",
     "text": [
      "[('<a href=\"http://twitter.com/download/iphone\" rel=\"nofollow\">Twitter for iPhone</a>', 4599), ('<a href=\"http://twitter.com/download/android\" rel=\"nofollow\">Twitter for Android</a>', 2431), ('<a href=\"http://twitter.com\" rel=\"nofollow\">Twitter Web Client</a>', 2227), ('<a href=\"http://twitter.com/#!/download/ipad\" rel=\"nofollow\">Twitter for iPad</a>', 332), ('<a href=\"https://buffer.com\" rel=\"nofollow\">Buffer</a>', 217), ('<a href=\"https://about.twitter.com/products/tweetdeck\" rel=\"nofollow\">TweetDeck</a>', 178), ('<a href=\"https://mobile.twitter.com\" rel=\"nofollow\">Twitter Lite</a>', 177), ('<a href=\"http://instagram.com\" rel=\"nofollow\">Instagram</a>', 168), ('<a href=\"http://www.facebook.com/twitter\" rel=\"nofollow\">Facebook</a>', 135), ('<a href=\"http://publicize.wp.com/\" rel=\"nofollow\">WordPress.com</a>', 123), ('<a href=\"https://mobile.twitter.com\" rel=\"nofollow\">Twitter Web App</a>', 118), ('<a href=\"https://dlvrit.com/\" rel=\"nofollow\">dlvr.it</a>', 88), ('<a href=\"https://www.google.com/\" rel=\"nofollow\">Google</a>', 64), ('<a href=\"http://twibble.io\" rel=\"nofollow\">Twibble.io</a>', 43), ('<a href=\"http://tapbots.com/tweetbot\" rel=\"nofollow\">Tweetbot for iΟS</a>', 35), ('<a href=\"https://mentalt.ettbattreliv.nu\" rel=\"nofollow\">Mentalt</a>', 30), ('<a href=\"https://ifttt.com\" rel=\"nofollow\">IFTTT</a>', 29), ('<a href=\"http://www.tweetcaster.com\" rel=\"nofollow\">TweetCaster for Android</a>', 28), ('<a href=\"http://it-halsan.se\" rel=\"nofollow\">IT-Halsan</a>', 20), ('<a href=\"HTTP://WWW.hammarbyfotboll.se\" rel=\"nofollow\">Hashtag Bajen</a>', 17), ('<a href=\"https://sproutsocial.com\" rel=\"nofollow\">Sprout Social</a>', 16), ('<a href=\"http://se.investing.com\" rel=\"nofollow\">FP News Publisher - SE</a>', 14), ('<a href=\"https://bottox.noblogs.org/\" rel=\"nofollow\">Gul och Blå Tå</a>', 12), ('<a href=\"http://www.echofon.com/\" rel=\"nofollow\">Echofon</a>', 10), ('<a href=\"http://www.finwire.se\" rel=\"nofollow\">Newsclient</a>', 8), ('<a href=\"https://mobile.twitter.com\" rel=\"nofollow\">Mobile Web (M2)</a>', 7), ('<a href=\"https://texttv.nu\" rel=\"nofollow\">texttv.nu senaste nytt</a>', 6), ('<a href=\"http://www.linkedin.com/\" rel=\"nofollow\">LinkedIn</a>', 6), ('<a href=\"https://www.hootsuite.com\" rel=\"nofollow\">Hootsuite Inc.</a>', 4), ('<a href=\"https://twitter.com/fininsyn\" rel=\"nofollow\">fininsyn</a>', 4), ('<a href=\"http://www.doktorn.com\" rel=\"nofollow\">DoktornPoster</a>', 4), ('<a href=\"http://bufferapp.com\" rel=\"nofollow\">Buffer</a>', 3), ('<a href=\"https://studio.twitter.com\" rel=\"nofollow\">Media Studio</a>', 3), ('<a href=\"https://mynewsdesk.com\" rel=\"nofollow\">Mynewsdesk</a>', 3), ('<a href=\"https://twitterrific.com/ios\" rel=\"nofollow\">Twitterrific for iOS</a>', 3), ('<a href=\"http://www.cision.com\" rel=\"nofollow\">Cision Tweet</a>', 3), ('<a href=\"https://zapier.com/\" rel=\"nofollow\">Zapier.com</a>', 3), ('<a href=\"https://roundteam.co\" rel=\"nofollow\">RoundTeam</a>', 3), ('<a href=\"http://www.stockaboo.com\" rel=\"nofollow\">Autoscript Poster</a>', 3), ('<a href=\"http://www.finwire.se\" rel=\"nofollow\">Newsclient FinWireSmallCap</a>', 3), ('<a href=\"http://www.handmark.com\" rel=\"nofollow\">TweetCaster for iOS</a>', 3), ('<a href=\"http://www.google.com/\" rel=\"nofollow\">Google</a>', 2), ('<a href=\"http://www.hoglandsnytt.se\" rel=\"nofollow\">Höglandsnytt</a>', 2), ('<a href=\"https://www.bloglovin.com\" rel=\"nofollow\">Bloglovin</a>', 2), ('<a href=\"http://typetwodiabetes.us\" rel=\"nofollow\">TypeTwoDiabetes-NextScript</a>', 2), ('<a href=\"http://24blekinge.se\" rel=\"nofollow\">24blekinge.se - autopublish</a>', 2), ('<a href=\"http://populist.se\" rel=\"nofollow\">populist_se</a>', 2), ('<a href=\"https://www.botlibre.com\" rel=\"nofollow\">Bot Libre!</a>', 2), ('<a href=\"http://www.mailchimp.com\" rel=\"nofollow\">MailChimp</a>', 2), ('<a href=\"http://24varberg.se\" rel=\"nofollow\">24varberg.se - autopublish</a>', 2), ('<a href=\"http://24halmstad.se\" rel=\"nofollow\">24halmstad.se - autopublish</a>', 2), ('<a href=\"http://www.hootsuite.com\" rel=\"nofollow\">Hootsuite</a>', 1), ('<a href=\"http://www.myplume.com/\" rel=\"nofollow\">Plume\\xa0for\\xa0Android</a>', 1), ('<a href=\"http://www.darulhadith.com/v2\" rel=\"nofollow\">Darulhadith Sverige</a>', 1), ('<a href=\"http://www.vikingpromo.se\" rel=\"nofollow\">Viking Promo</a>', 1), ('<a href=\"http://24uppsala.se\" rel=\"nofollow\">24uppsala.se - autopublish</a>', 1), ('<a href=\"http://corebird.baedert.org\" rel=\"nofollow\">Corebird</a>', 1), ('<a href=\"http://healthtreatment.1syn.info/\" rel=\"nofollow\">Psycho Ooooo</a>', 1), ('<a href=\"http://www.apple.com\" rel=\"nofollow\">iOS</a>', 1), ('<a href=\"http://mvilla.it/fenix\" rel=\"nofollow\">Fenix 2</a>', 1), ('<a href=\"https://medium.com\" rel=\"nofollow\">Medium</a>', 1), ('<a href=\"http://www.ideellajobb.se\" rel=\"nofollow\">ideellajobb_se</a>', 1), ('<a href=\"https://www.sprinklr.com\" rel=\"nofollow\">Sprinklr</a>', 1), ('<a href=\"http://www.apple.com/\" rel=\"nofollow\">OS X</a>', 1), ('<a href=\"http://klinkerapps.com\" rel=\"nofollow\">Talon Android</a>', 1), ('<a href=\"http://www.apple.com\" rel=\"nofollow\">Camera on iOS</a>', 1), ('<a href=\"http://www.samruston.co.uk\" rel=\"nofollow\">Flamingo for Android</a>', 1), ('<a href=\"https://www.linkedin.com/in/brianmmulder/\" rel=\"nofollow\">datadrivencare_helper</a>', 1), ('<a href=\"https://gab.ai\" rel=\"nofollow\">Gab.ai</a>', 1), ('<a href=\"http://www.jobbsafari.dk\" rel=\"nofollow\">Jobbsafari Nyheter</a>', 1), ('<a href=\"http://www.yamathosupply2.com\" rel=\"nofollow\">Aldo Zaffalon</a>', 1), ('<a href=\"http://snappytv.com\" rel=\"nofollow\">SnappyTV.com</a>', 1), ('<a href=\"http://www.raspberrypi.org\" rel=\"nofollow\">RobbanCleanmate</a>', 1), ('<a href=\"http://www.littlemsmobile.com\" rel=\"nofollow\">CareMo News</a>', 1), ('<a href=\"https://handbollskanalen.se\" rel=\"nofollow\">HK Social Media Auto Publishing</a>', 1), ('<a href=\"http://ask.fm/\" rel=\"nofollow\">Ask.fm</a>', 1), ('<a href=\"https://studio.twitter.com\" rel=\"nofollow\">Twitter Media Studio</a>', 1), ('<a href=\"http://www.salesforce.com\" rel=\"nofollow\">Salesforce - Social Studio</a>', 1), ('<a href=\"http://24malmo.se\" rel=\"nofollow\">24malmö.se - auto publish</a>', 1), ('<a href=\"https://play.google.com/store/apps/details?id=com.arthurivanets.owly\" rel=\"nofollow\">Оwly</a>', 1), ('<a href=\"https://twitter.com/GittanFranzen\" rel=\"nofollow\">Herrens väg</a>', 1), ('<a href=\"https://oxfordblue.azurewebsites.net\" rel=\"nofollow\">OxfordBlue-Twitter</a>', 1), ('<a href=\"https://github.com/mariotaku/twidere/\" rel=\"nofollow\">Twidere for Android #7</a>', 1), ('<a href=\"http://TheCrowdfundingCentre.com\" rel=\"nofollow\">TheCrowdfundingCentre.com News</a>', 1), ('<a href=\"https://twitter.com/HashtagBajen\" rel=\"nofollow\">retweet bajen</a>', 1), ('<a href=\"https://tapbots.com/software/tweetbot/mac\" rel=\"nofollow\">Tweetbot for Mac</a>', 1), ('<a href=\"https://postfity.com\" rel=\"nofollow\">Postfity.com</a>', 1), ('<a href=\"https://twitter.com/TordArvid\" rel=\"nofollow\">Statligt Verifierad Gudomlighet</a>', 1)]\n"
     ]
    }
   ],
   "source": [
    "#TODO: modify code to get the devices, and sort them by most used (for the pie chart)\n",
    "\n",
    "import json\n",
    "\n",
    "# Set of screen names\n",
    "devices = {}\n",
    "\n",
    "with open('../diabetes_tweets.json', encoding=\"utf8\") as f:\n",
    "    for row in f:\n",
    "        jo = json.loads(row)\n",
    "        try:\n",
    "            devices[ jo[\"source\"] ] += 1\n",
    "        except:\n",
    "            devices[ jo[\"source\"] ] = 1\n",
    "            \n",
    "\n",
    "# Array\n",
    "devices_array = []\n",
    "\n",
    "for attr, value in devices.items():\n",
    "        devices_array.append((attr, value))    \n",
    "        \n",
    "devices_array.sort(reverse = True, key=lambda x: x[1])\n",
    "print(devices_array)\n",
    "            \n"
   ]
  },
  {
   "cell_type": "code",
   "execution_count": 5,
   "metadata": {},
   "outputs": [
    {
     "data": {
      "text/plain": [
       "{'<a href=\"http://twitter.com/download/iphone\" rel=\"nofollow\">Twitter for iPhone</a>': 4599,\n",
       " '<a href=\"http://twitter.com\" rel=\"nofollow\">Twitter Web Client</a>': 2227,\n",
       " '<a href=\"https://mobile.twitter.com\" rel=\"nofollow\">Twitter Lite</a>': 177,\n",
       " '<a href=\"http://twitter.com/download/android\" rel=\"nofollow\">Twitter for Android</a>': 2431,\n",
       " '<a href=\"HTTP://WWW.hammarbyfotboll.se\" rel=\"nofollow\">Hashtag Bajen</a>': 17,\n",
       " '<a href=\"http://twitter.com/#!/download/ipad\" rel=\"nofollow\">Twitter for iPad</a>': 332,\n",
       " '<a href=\"http://www.hootsuite.com\" rel=\"nofollow\">Hootsuite</a>': 1,\n",
       " '<a href=\"https://about.twitter.com/products/tweetdeck\" rel=\"nofollow\">TweetDeck</a>': 178,\n",
       " '<a href=\"http://bufferapp.com\" rel=\"nofollow\">Buffer</a>': 3,\n",
       " '<a href=\"http://www.myplume.com/\" rel=\"nofollow\">Plume\\xa0for\\xa0Android</a>': 1,\n",
       " '<a href=\"http://twibble.io\" rel=\"nofollow\">Twibble.io</a>': 43,\n",
       " '<a href=\"http://www.darulhadith.com/v2\" rel=\"nofollow\">Darulhadith Sverige</a>': 1,\n",
       " '<a href=\"http://publicize.wp.com/\" rel=\"nofollow\">WordPress.com</a>': 123,\n",
       " '<a href=\"https://ifttt.com\" rel=\"nofollow\">IFTTT</a>': 29,\n",
       " '<a href=\"https://mobile.twitter.com\" rel=\"nofollow\">Mobile Web (M2)</a>': 7,\n",
       " '<a href=\"https://studio.twitter.com\" rel=\"nofollow\">Media Studio</a>': 3,\n",
       " '<a href=\"http://www.tweetcaster.com\" rel=\"nofollow\">TweetCaster for Android</a>': 28,\n",
       " '<a href=\"http://www.facebook.com/twitter\" rel=\"nofollow\">Facebook</a>': 135,\n",
       " '<a href=\"http://www.google.com/\" rel=\"nofollow\">Google</a>': 2,\n",
       " '<a href=\"http://instagram.com\" rel=\"nofollow\">Instagram</a>': 168,\n",
       " '<a href=\"https://mentalt.ettbattreliv.nu\" rel=\"nofollow\">Mentalt</a>': 30,\n",
       " '<a href=\"http://www.vikingpromo.se\" rel=\"nofollow\">Viking Promo</a>': 1,\n",
       " '<a href=\"https://buffer.com\" rel=\"nofollow\">Buffer</a>': 217,\n",
       " '<a href=\"https://www.google.com/\" rel=\"nofollow\">Google</a>': 64,\n",
       " '<a href=\"https://bottox.noblogs.org/\" rel=\"nofollow\">Gul och Blå Tå</a>': 12,\n",
       " '<a href=\"http://tapbots.com/tweetbot\" rel=\"nofollow\">Tweetbot for iΟS</a>': 35,\n",
       " '<a href=\"https://texttv.nu\" rel=\"nofollow\">texttv.nu senaste nytt</a>': 6,\n",
       " '<a href=\"http://www.hoglandsnytt.se\" rel=\"nofollow\">Höglandsnytt</a>': 2,\n",
       " '<a href=\"https://www.bloglovin.com\" rel=\"nofollow\">Bloglovin</a>': 2,\n",
       " '<a href=\"http://typetwodiabetes.us\" rel=\"nofollow\">TypeTwoDiabetes-NextScript</a>': 2,\n",
       " '<a href=\"http://24uppsala.se\" rel=\"nofollow\">24uppsala.se - autopublish</a>': 1,\n",
       " '<a href=\"https://mynewsdesk.com\" rel=\"nofollow\">Mynewsdesk</a>': 3,\n",
       " '<a href=\"https://dlvrit.com/\" rel=\"nofollow\">dlvr.it</a>': 88,\n",
       " '<a href=\"http://corebird.baedert.org\" rel=\"nofollow\">Corebird</a>': 1,\n",
       " '<a href=\"http://www.echofon.com/\" rel=\"nofollow\">Echofon</a>': 10,\n",
       " '<a href=\"http://healthtreatment.1syn.info/\" rel=\"nofollow\">Psycho Ooooo</a>': 1,\n",
       " '<a href=\"http://www.apple.com\" rel=\"nofollow\">iOS</a>': 1,\n",
       " '<a href=\"http://mvilla.it/fenix\" rel=\"nofollow\">Fenix 2</a>': 1,\n",
       " '<a href=\"http://it-halsan.se\" rel=\"nofollow\">IT-Halsan</a>': 20,\n",
       " '<a href=\"http://24blekinge.se\" rel=\"nofollow\">24blekinge.se - autopublish</a>': 2,\n",
       " '<a href=\"https://twitterrific.com/ios\" rel=\"nofollow\">Twitterrific for iOS</a>': 3,\n",
       " '<a href=\"https://medium.com\" rel=\"nofollow\">Medium</a>': 1,\n",
       " '<a href=\"http://www.cision.com\" rel=\"nofollow\">Cision Tweet</a>': 3,\n",
       " '<a href=\"http://www.ideellajobb.se\" rel=\"nofollow\">ideellajobb_se</a>': 1,\n",
       " '<a href=\"https://www.sprinklr.com\" rel=\"nofollow\">Sprinklr</a>': 1,\n",
       " '<a href=\"https://sproutsocial.com\" rel=\"nofollow\">Sprout Social</a>': 16,\n",
       " '<a href=\"https://www.hootsuite.com\" rel=\"nofollow\">Hootsuite Inc.</a>': 4,\n",
       " '<a href=\"http://www.apple.com/\" rel=\"nofollow\">OS X</a>': 1,\n",
       " '<a href=\"http://klinkerapps.com\" rel=\"nofollow\">Talon Android</a>': 1,\n",
       " '<a href=\"http://www.apple.com\" rel=\"nofollow\">Camera on iOS</a>': 1,\n",
       " '<a href=\"http://www.linkedin.com/\" rel=\"nofollow\">LinkedIn</a>': 6,\n",
       " '<a href=\"http://se.investing.com\" rel=\"nofollow\">FP News Publisher - SE</a>': 14,\n",
       " '<a href=\"http://www.finwire.se\" rel=\"nofollow\">Newsclient</a>': 8,\n",
       " '<a href=\"http://populist.se\" rel=\"nofollow\">populist_se</a>': 2,\n",
       " '<a href=\"https://twitter.com/fininsyn\" rel=\"nofollow\">fininsyn</a>': 4,\n",
       " '<a href=\"https://zapier.com/\" rel=\"nofollow\">Zapier.com</a>': 3,\n",
       " '<a href=\"http://www.samruston.co.uk\" rel=\"nofollow\">Flamingo for Android</a>': 1,\n",
       " '<a href=\"https://roundteam.co\" rel=\"nofollow\">RoundTeam</a>': 3,\n",
       " '<a href=\"http://www.stockaboo.com\" rel=\"nofollow\">Autoscript Poster</a>': 3,\n",
       " '<a href=\"http://www.finwire.se\" rel=\"nofollow\">Newsclient FinWireSmallCap</a>': 3,\n",
       " '<a href=\"https://www.linkedin.com/in/brianmmulder/\" rel=\"nofollow\">datadrivencare_helper</a>': 1,\n",
       " '<a href=\"https://www.botlibre.com\" rel=\"nofollow\">Bot Libre!</a>': 2,\n",
       " '<a href=\"https://gab.ai\" rel=\"nofollow\">Gab.ai</a>': 1,\n",
       " '<a href=\"http://www.jobbsafari.dk\" rel=\"nofollow\">Jobbsafari Nyheter</a>': 1,\n",
       " '<a href=\"http://www.handmark.com\" rel=\"nofollow\">TweetCaster for iOS</a>': 3,\n",
       " '<a href=\"http://www.mailchimp.com\" rel=\"nofollow\">MailChimp</a>': 2,\n",
       " '<a href=\"http://www.yamathosupply2.com\" rel=\"nofollow\">Aldo Zaffalon</a>': 1,\n",
       " '<a href=\"http://snappytv.com\" rel=\"nofollow\">SnappyTV.com</a>': 1,\n",
       " '<a href=\"http://www.raspberrypi.org\" rel=\"nofollow\">RobbanCleanmate</a>': 1,\n",
       " '<a href=\"http://www.doktorn.com\" rel=\"nofollow\">DoktornPoster</a>': 4,\n",
       " '<a href=\"http://24varberg.se\" rel=\"nofollow\">24varberg.se - autopublish</a>': 2,\n",
       " '<a href=\"http://www.littlemsmobile.com\" rel=\"nofollow\">CareMo News</a>': 1,\n",
       " '<a href=\"https://handbollskanalen.se\" rel=\"nofollow\">HK Social Media Auto Publishing</a>': 1,\n",
       " '<a href=\"http://ask.fm/\" rel=\"nofollow\">Ask.fm</a>': 1,\n",
       " '<a href=\"https://studio.twitter.com\" rel=\"nofollow\">Twitter Media Studio</a>': 1,\n",
       " '<a href=\"http://24halmstad.se\" rel=\"nofollow\">24halmstad.se - autopublish</a>': 2,\n",
       " '<a href=\"https://mobile.twitter.com\" rel=\"nofollow\">Twitter Web App</a>': 118,\n",
       " '<a href=\"http://www.salesforce.com\" rel=\"nofollow\">Salesforce - Social Studio</a>': 1,\n",
       " '<a href=\"http://24malmo.se\" rel=\"nofollow\">24malmö.se - auto publish</a>': 1,\n",
       " '<a href=\"https://play.google.com/store/apps/details?id=com.arthurivanets.owly\" rel=\"nofollow\">Оwly</a>': 1,\n",
       " '<a href=\"https://twitter.com/GittanFranzen\" rel=\"nofollow\">Herrens väg</a>': 1,\n",
       " '<a href=\"https://oxfordblue.azurewebsites.net\" rel=\"nofollow\">OxfordBlue-Twitter</a>': 1,\n",
       " '<a href=\"https://github.com/mariotaku/twidere/\" rel=\"nofollow\">Twidere for Android #7</a>': 1,\n",
       " '<a href=\"http://TheCrowdfundingCentre.com\" rel=\"nofollow\">TheCrowdfundingCentre.com News</a>': 1,\n",
       " '<a href=\"https://twitter.com/HashtagBajen\" rel=\"nofollow\">retweet bajen</a>': 1,\n",
       " '<a href=\"https://tapbots.com/software/tweetbot/mac\" rel=\"nofollow\">Tweetbot for Mac</a>': 1,\n",
       " '<a href=\"https://postfity.com\" rel=\"nofollow\">Postfity.com</a>': 1,\n",
       " '<a href=\"https://twitter.com/TordArvid\" rel=\"nofollow\">Statligt Verifierad Gudomlighet</a>': 1}"
      ]
     },
     "execution_count": 5,
     "metadata": {},
     "output_type": "execute_result"
    }
   ],
   "source": [
    "devices"
   ]
  },
  {
   "cell_type": "code",
   "execution_count": null,
   "metadata": {},
   "outputs": [],
   "source": []
  }
 ],
 "metadata": {
  "kernelspec": {
   "display_name": "Python 3",
   "language": "python",
   "name": "python3"
  },
  "language_info": {
   "codemirror_mode": {
    "name": "ipython",
    "version": 3
   },
   "file_extension": ".py",
   "mimetype": "text/x-python",
   "name": "python",
   "nbconvert_exporter": "python",
   "pygments_lexer": "ipython3",
   "version": "3.7.3"
  }
 },
 "nbformat": 4,
 "nbformat_minor": 2
}
