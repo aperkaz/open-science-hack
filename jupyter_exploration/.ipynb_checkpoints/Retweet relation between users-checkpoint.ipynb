{
 "cells": [
  {
   "cell_type": "markdown",
   "metadata": {},
   "source": [
    "Filter the users with the most RTs"
   ]
  },
  {
   "cell_type": "code",
   "execution_count": 55,
   "metadata": {},
   "outputs": [
    {
     "name": "stdout",
     "output_type": "stream",
     "text": [
      "[(('veronikapso', 'ssdf12diabetes'), 16), (('biljettfrmedlin', 'Diamyd'), 11), (('diabetesliitto', 'DiabetesLUDC'), 11), (('HashtagBajen', 'Hammarbyfotboll'), 10), (('medfak_LU', 'DiabetesLUDC'), 10), (('traningslara', 'JacobGudiol'), 10), (('Koltrast3', 'Diamyd'), 8), (('KajsaAspJonson', 'DietisternasRF'), 8), (('Ingrid_Helander', 'LmVarlden'), 7), (('possobollotos', 'ssdf12diabetes'), 6), (('BlottGott', 'BlottGott'), 6), (('eve_sweden', 'Ardalsberget'), 6), (('goteborgsuni', 'SahlgrenskaAcad'), 5), (('BMrck', 'SahlgrenskaAcad'), 5), (('GothiaForum', 'SahlgrenskaAcad'), 5), (('Hassel2011', 'kvalitetsregist'), 5), (('HashtagBajen', 'samhallsmatchen'), 5), (('ankarklo', 'StEriksogon'), 5), (('HjartLung', 'ssdf12diabetes'), 4), (('MariaJonsson1', 'DiabetesLUDC'), 4)]\n"
     ]
    }
   ],
   "source": [
    "import json\n",
    "import re\n",
    "\n",
    "# Set of screen names, and index of RTs\n",
    "user_rt_stc = {}\n",
    "\n",
    "index = 0\n",
    "with open('../diabetes_tweets.json', encoding=\"utf8\") as f:\n",
    "    for row in f:\n",
    "        jo = json.loads(row)\n",
    "        tweet = jo[\"text\"]\n",
    "            \n",
    "        if tweet.startswith('RT'):\n",
    "            to_user = tweet[tweet.find(\"@\")+1:tweet.find(\":\")]\n",
    "            try:\n",
    "                user_rt_stc[ jo[\"user\"][\"screen_name\"], to_user ].append(index)\n",
    "            except:\n",
    "                user_rt_stc[ jo[\"user\"][\"screen_name\"], to_user ] = [index]\n",
    "                \n",
    "            index +=1\n",
    "                \n",
    "                \n",
    "user_rt_list = []\n",
    "\n",
    "for attr, value in user_rt_stc.items():\n",
    "        user_rt_list.append((attr, len(value)))    \n",
    "        \n",
    "user_rt_list.sort(reverse = True, key=lambda x: x[1])\n",
    "user_rt_list = user_rt_list[:20]\n",
    "\n",
    "print(user_rt_list)"
   ]
  }
 ],
 "metadata": {
  "kernelspec": {
   "display_name": "Python 3",
   "language": "python",
   "name": "python3"
  },
  "language_info": {
   "codemirror_mode": {
    "name": "ipython",
    "version": 3
   },
   "file_extension": ".py",
   "mimetype": "text/x-python",
   "name": "python",
   "nbconvert_exporter": "python",
   "pygments_lexer": "ipython3",
   "version": "3.7.3"
  }
 },
 "nbformat": 4,
 "nbformat_minor": 2
}
