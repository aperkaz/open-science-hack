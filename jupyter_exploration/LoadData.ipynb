{
 "cells": [
  {
   "cell_type": "markdown",
   "metadata": {},
   "source": [
    "running the code below gets the unique number of users"
   ]
  },
  {
   "cell_type": "code",
   "execution_count": 10,
   "metadata": {},
   "outputs": [],
   "source": [
    "import json\n",
    "\n",
    "# Set of screen names\n",
    "tweets_per_user = {}\n",
    "\n",
    "with open('../diabetes_tweets.json', encoding=\"utf8\") as f:\n",
    "    for row in f:\n",
    "        jo = json.loads(row)\n",
    "        try:\n",
    "            tweets_per_user[ jo[\"user\"][\"screen_name\"] ] += 1\n",
    "        except:\n",
    "            tweets_per_user[ jo[\"user\"][\"screen_name\"] ] = 1\n",
    "\n",
    "f = open(\"list_of_tweets_per_user.json\", \"w\")\n",
    "f.write(json.dumps(tweets_per_user))\n",
    "f.close()\n",
    "\n"
   ]
  },
  {
   "cell_type": "code",
   "execution_count": 11,
   "metadata": {},
   "outputs": [
    {
     "data": {
      "text/plain": [
       "5722"
      ]
     },
     "execution_count": 11,
     "metadata": {},
     "output_type": "execute_result"
    }
   ],
   "source": [
    "len(tweets_per_user)\n"
   ]
  },
  {
   "cell_type": "code",
   "execution_count": null,
   "metadata": {},
   "outputs": [],
   "source": []
  }
 ],
 "metadata": {
  "kernelspec": {
   "display_name": "Python 3",
   "language": "python",
   "name": "python3"
  },
  "language_info": {
   "codemirror_mode": {
    "name": "ipython",
    "version": 3
   },
   "file_extension": ".py",
   "mimetype": "text/x-python",
   "name": "python",
   "nbconvert_exporter": "python",
   "pygments_lexer": "ipython3",
   "version": "3.7.0"
  }
 },
 "nbformat": 4,
 "nbformat_minor": 2
}
