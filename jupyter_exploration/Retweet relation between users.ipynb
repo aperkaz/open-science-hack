{
 "cells": [
  {
   "cell_type": "markdown",
   "metadata": {},
   "source": [
    "Filter the users with the most RTs"
   ]
  },
  {
   "cell_type": "code",
   "execution_count": 32,
   "metadata": {},
   "outputs": [
    {
     "name": "stdout",
     "output_type": "stream",
     "text": [
      "[['sofiabremsjo', 'calleekstrom', 1], ['halle_ali', 'MSDSverige', 2], ['HjartLung', 'ssdf12diabetes', 4], ['TDJeanette', 'HjartLung', 1], ['veronikapso', 'ssdf12diabetes', 16], ['NiclasKammarbo', 'SEF_Elitfotboll', 1], ['OliverHagblom', 'SEF_Elitfotboll', 1], ['AllsvenskanSE', 'SEF_Elitfotboll', 1], ['Vilhelmsson_12', 'SEF_Elitfotboll', 1], ['martinpwi', 'SEF_Elitfotboll', 1], ['oddset', 'SEF_Elitfotboll', 1], ['ejvin1897', 'SEF_Elitfotboll', 1], ['ultrish', 'SEF_Elitfotboll', 1], ['HashtagBajen', 'Hammarbyfotboll', 10], ['903Lew', 'SEF_Elitfotboll', 1], ['antonmarten_1', 'SEF_Elitfotboll', 1], ['jacobfalth', 'Hammarbyfotboll', 1], ['ros_inger', 'HjartLung', 1], ['RBTHAMAN', 'SEF_Elitfotboll', 1], ['Svensson_Anton', 'SEF_Elitfotboll', 1]]\n"
     ]
    }
   ],
   "source": [
    "import json\n",
    "import re\n",
    "\n",
    "# Set of screen names, and index of RTs\n",
    "user_rt_stc = {}\n",
    "\n",
    "index = 0\n",
    "with open('../diabetes_tweets.json', encoding=\"utf8\") as f:\n",
    "    for row in f:\n",
    "        jo = json.loads(row)\n",
    "        tweet = jo[\"text\"]\n",
    "            \n",
    "        if tweet.startswith('RT'):\n",
    "            to_user = tweet[tweet.find(\"@\")+1:tweet.find(\":\")]\n",
    "            try:\n",
    "                user_rt_stc[ jo[\"user\"][\"screen_name\"], to_user ].append(index)\n",
    "            except:\n",
    "                user_rt_stc[ jo[\"user\"][\"screen_name\"], to_user ] = [index]\n",
    "                \n",
    "            index +=1\n",
    "                \n",
    "                \n",
    "user_rt_list = []\n",
    "\n",
    "for attr, value in user_rt_stc.items():\n",
    "    a = list(attr)\n",
    "    a.append(len(value))\n",
    "    user_rt_list.append(a) \n",
    "\n",
    "        \n",
    "user_rt_list = user_rt_list[:20]\n",
    "\n",
    "print(user_rt_list)\n",
    "\n",
    "f = open(\"retweet-relation.json\", \"w\")\n",
    "f.write(json.dumps(user_rt_list))\n",
    "f.close()"
   ]
  },
  {
   "cell_type": "code",
   "execution_count": null,
   "metadata": {},
   "outputs": [],
   "source": []
  }
 ],
 "metadata": {
  "kernelspec": {
   "display_name": "Python 3",
   "language": "python",
   "name": "python3"
  },
  "language_info": {
   "codemirror_mode": {
    "name": "ipython",
    "version": 3
   },
   "file_extension": ".py",
   "mimetype": "text/x-python",
   "name": "python",
   "nbconvert_exporter": "python",
   "pygments_lexer": "ipython3",
   "version": "3.7.3"
  }
 },
 "nbformat": 4,
 "nbformat_minor": 2
}
