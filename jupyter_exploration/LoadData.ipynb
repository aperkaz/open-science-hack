{
 "cells": [
  {
   "cell_type": "markdown",
   "metadata": {},
   "source": [
    "running the code below gets the unique number of users"
   ]
  },
  {
   "cell_type": "code",
   "execution_count": 11,
   "metadata": {},
   "outputs": [
    {
     "name": "stdout",
     "output_type": "stream",
     "text": [
      "the number of unique screen names: 5722\n"
     ]
    }
   ],
   "source": [
    "import json\n",
    "\n",
    "# Set of screen names\n",
    "sn = set([])\n",
    "\n",
    "# Read the tweets file line by line and convert each line to a JSON object.\n",
    "# Extract the 'user' key and then the 'screen_name' key. Add the name\n",
    "# to the set of names (sn)\n",
    "\n",
    "with open('../diabetes_tweets.json', encoding=\"utf8\") as f:\n",
    "    for row in f:\n",
    "        jo = json.loads(row)\n",
    "        sn.add(jo[\"user\"][\"screen_name\"])\n",
    "print('the number of unique screen names: '+str(len(sn)))"
   ]
  },
  {
   "cell_type": "markdown",
   "metadata": {},
   "source": [
    "Now an attempt to preprocess the tweets for language analysis"
   ]
  },
  {
   "cell_type": "code",
   "execution_count": 15,
   "metadata": {},
   "outputs": [],
   "source": [
    "from stop_words import get_stop_words\n",
    "\n",
    "stop_words = get_stop_words('sv')\n"
   ]
  },
  {
   "cell_type": "code",
   "execution_count": null,
   "metadata": {},
   "outputs": [],
   "source": []
  }
 ],
 "metadata": {
  "kernelspec": {
   "display_name": "Python 3",
   "language": "python",
   "name": "python3"
  },
  "language_info": {
   "codemirror_mode": {
    "name": "ipython",
    "version": 3
   },
   "file_extension": ".py",
   "mimetype": "text/x-python",
   "name": "python",
   "nbconvert_exporter": "python",
   "pygments_lexer": "ipython3",
   "version": "3.7.0"
  }
 },
 "nbformat": 4,
 "nbformat_minor": 2
}
